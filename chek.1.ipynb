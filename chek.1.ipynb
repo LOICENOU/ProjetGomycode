{
 "cells": [
  {
   "cell_type": "code",
   "execution_count": 4,
   "id": "0e501c1f",
   "metadata": {},
   "outputs": [
    {
     "name": "stdout",
     "output_type": "stream",
     "text": [
      "Bienvenue dans le monde python! Commençons à coder \n"
     ]
    }
   ],
   "source": [
    " print( \"Bienvenue dans le monde python! Commençons à coder \")\n"
   ]
  }
 ],
 "metadata": {
  "kernelspec": {
   "display_name": "Python 3 (ipykernel)",
   "language": "python",
   "name": "python3"
  },
  "language_info": {
   "codemirror_mode": {
    "name": "ipython",
    "version": 3
   },
   "file_extension": ".py",
   "mimetype": "text/x-python",
   "name": "python",
   "nbconvert_exporter": "python",
   "pygments_lexer": "ipython3",
   "version": "3.9.12"
  }
 },
 "nbformat": 4,
 "nbformat_minor": 5
}
